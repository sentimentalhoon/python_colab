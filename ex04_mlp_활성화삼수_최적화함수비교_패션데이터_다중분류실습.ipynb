{
  "nbformat": 4,
  "nbformat_minor": 0,
  "metadata": {
    "colab": {
      "provenance": [],
      "gpuType": "T4",
      "authorship_tag": "ABX9TyOo0Yz5P3ocDfLBd+V4eZih",
      "include_colab_link": true
    },
    "kernelspec": {
      "name": "python3",
      "display_name": "Python 3"
    },
    "language_info": {
      "name": "python"
    },
    "accelerator": "GPU"
  },
  "cells": [
    {
      "cell_type": "markdown",
      "metadata": {
        "id": "view-in-github",
        "colab_type": "text"
      },
      "source": [
        "<a href=\"https://colab.research.google.com/github/sentimentalhoon/python_colab/blob/main/ex04_mlp_%ED%99%9C%EC%84%B1%ED%99%94%EC%82%BC%EC%88%98_%EC%B5%9C%EC%A0%81%ED%99%94%ED%95%A8%EC%88%98%EB%B9%84%EA%B5%90_%ED%8C%A8%EC%85%98%EB%8D%B0%EC%9D%B4%ED%84%B0_%EB%8B%A4%EC%A4%91%EB%B6%84%EB%A5%98%EC%8B%A4%EC%8A%B5.ipynb\" target=\"_parent\"><img src=\"https://colab.research.google.com/assets/colab-badge.svg\" alt=\"Open In Colab\"/></a>"
      ]
    },
    {
      "cell_type": "code",
      "execution_count": null,
      "metadata": {
        "id": "QdqdzFOQJIYF"
      },
      "outputs": [],
      "source": [
        "# 런타임 > 런타임 유형 변경 > GPU 연결\n",
        "# 드라이브 연동\n",
        "# 딥러닝 폴더 경로 이동!\n"
      ]
    }
  ]
}